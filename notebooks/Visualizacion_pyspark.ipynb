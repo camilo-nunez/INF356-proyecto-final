{
 "cells": [
  {
   "cell_type": "code",
   "execution_count": 1,
   "metadata": {
    "colab": {},
    "colab_type": "code",
    "id": "t2V6J3FyRDxd"
   },
   "outputs": [
    {
     "name": "stderr",
     "output_type": "stream",
     "text": [
      "/usr/local/lib/python3.7/dist-packages/xarray/conventions.py:9: FutureWarning: The pandas.tslib module is deprecated and will be removed in a future version.\n",
      "  from pandas.tslib import OutOfBoundsDatetime\n"
     ]
    }
   ],
   "source": [
    "#Las librerias de os y glob se utiliza para el manejo de las rutas de los archivos guardados\n",
    "import os\n",
    "import glob\n",
    "\n",
    "#netCDF se utiliza para procesar los archivos *.nc\n",
    "import netCDF4 as nc\n",
    "\n",
    "#librerias de manipulación de datos generales\n",
    "import numpy as np\n",
    "import pandas as pd\n",
    "import xray\n",
    "\n",
    "#se importa esto debido a los warnings que generan utilizar\n",
    "#versiones antiguas de los modulos (pero que son necesarias)\n",
    "import warnings\n",
    "warnings.filterwarnings('ignore')\n",
    "\n",
    "#librerias de visualización de gráficos e imagenes\n",
    "%matplotlib inline\n",
    "import matplotlib.pyplot as plt\n",
    "import seaborn as sns\n",
    "sns.set(style=\"ticks\")\n",
    "\n",
    "#Se utiliza datetime para obtener el timestamp de la generación\n",
    "#de imagenes de la temperatura oceanica\n",
    "from datetime import datetime\n",
    "\n",
    "#Librerias de Apache Spark\n",
    "import findspark\n",
    "import pyspark"
   ]
  },
  {
   "cell_type": "code",
   "execution_count": 2,
   "metadata": {},
   "outputs": [],
   "source": [
    "#Se define el contexto de spark que se utiliza para\n",
    "#las paralelizaciones de tareas\n",
    "findspark.init()\n",
    "\n",
    "sc = pyspark.SparkContext()"
   ]
  },
  {
   "cell_type": "code",
   "execution_count": 3,
   "metadata": {},
   "outputs": [],
   "source": [
    "#Se toma todas las rutas de los archivos pertenecientes al dataset de oceanos almacenados\n",
    "dataset = list(glob.glob(\"/archive/data/*_1hrly_prog.nc\"))\n",
    "dataset.sort()"
   ]
  },
  {
   "cell_type": "code",
   "execution_count": 4,
   "metadata": {},
   "outputs": [
    {
     "name": "stdout",
     "output_type": "stream",
     "text": [
      "['/archive/data/rtofs_glo_2ds_f000_1hrly_prog.nc', '/archive/data/rtofs_glo_2ds_f001_1hrly_prog.nc', '/archive/data/rtofs_glo_2ds_f002_1hrly_prog.nc', '/archive/data/rtofs_glo_2ds_f003_1hrly_prog.nc', '/archive/data/rtofs_glo_2ds_f004_1hrly_prog.nc', '/archive/data/rtofs_glo_2ds_f005_1hrly_prog.nc', '/archive/data/rtofs_glo_2ds_f006_1hrly_prog.nc', '/archive/data/rtofs_glo_2ds_f007_1hrly_prog.nc']\n"
     ]
    }
   ],
   "source": [
    "print(dataset)"
   ]
  },
  {
   "cell_type": "code",
   "execution_count": 5,
   "metadata": {},
   "outputs": [],
   "source": [
    "#Función que se encarga de procesar los datos oceanográficos (archivos .nc)\n",
    "#que genera las visualizaciones de la temperatura del oceano\n",
    "def save_plot_img(fn):\n",
    "    data = nc.Dataset(os.path.join(fn))\n",
    "    sst = data.variables['sst']\n",
    "    ds = xray.open_dataset(fn, decode_times=True)\n",
    "    sst = ds.sst.values.ravel()\n",
    "    sst_masked = sst[~np.isnan(sst)]\n",
    "    \n",
    "    plt.figure(figsize=(7,7))\n",
    "    \n",
    "    ## Masking a numpy array with multiple logical criteria:\n",
    "    # sst_between_-10_5 = sst[(sst > -10) & (sst < 5)]\n",
    "    now = datetime.now()\n",
    "    timestamp = datetime.timestamp(now)\n",
    "    plt.imshow(ds.sst[0,::-100,::100])\n",
    "    plt.savefig('T_ocean_low_res'+str(timestamp)+'.jpg')\n",
    "    plt.imshow(ds.sst[0,::-1,...])\n",
    "    plt.savefig('T_ocean_high_res'+str(timestamp)+'.jpg')"
   ]
  },
  {
   "cell_type": "code",
   "execution_count": 6,
   "metadata": {},
   "outputs": [],
   "source": [
    "#Se prepara la paralelización de las tareas\n",
    "parallel_plots = sc.parallelize(dataset).map(save_plot_img)"
   ]
  },
  {
   "cell_type": "code",
   "execution_count": 7,
   "metadata": {},
   "outputs": [
    {
     "data": {
      "text/plain": [
       "[None, None, None, None, None, None, None, None]"
      ]
     },
     "execution_count": 7,
     "metadata": {},
     "output_type": "execute_result"
    }
   ],
   "source": [
    "#Se ejecuta esta paralelización\n",
    "parallel_plots.collect()"
   ]
  }
 ],
 "metadata": {
  "colab": {
   "name": "Untitled",
   "provenance": []
  },
  "kernelspec": {
   "display_name": "Python 3",
   "language": "python",
   "name": "python3"
  },
  "language_info": {
   "codemirror_mode": {
    "name": "ipython",
    "version": 3
   },
   "file_extension": ".py",
   "mimetype": "text/x-python",
   "name": "python",
   "nbconvert_exporter": "python",
   "pygments_lexer": "ipython3",
   "version": "3.7.3"
  }
 },
 "nbformat": 4,
 "nbformat_minor": 1
}
